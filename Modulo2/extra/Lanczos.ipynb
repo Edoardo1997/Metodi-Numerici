{
 "cells": [
  {
   "cell_type": "code",
   "execution_count": 16,
   "id": "b2551731",
   "metadata": {},
   "outputs": [
    {
     "name": "stdout",
     "output_type": "stream",
     "text": [
      "real ground_state = -0.4253814624\n",
      "Found eig = -0.4253814624\n"
     ]
    }
   ],
   "source": [
    "import numpy as np\n",
    "import matplotlib.pyplot as plt\n",
    "\n",
    "def generic_simmetric(n, seed = 23):\n",
    "    \"\"\"\n",
    "    Return generic simmetric matrix of size nxn\n",
    "    \"\"\"\n",
    "    np.random.seed(seed)\n",
    "    A = np.random.random((n,n))\n",
    "    A = (A + A.T)/2\n",
    "    return A\n",
    "\n",
    "def generic_state(n, seed = 21):\n",
    "    \"\"\"\n",
    "    Return generic normalized state of length n\n",
    "    \"\"\"\n",
    "    v = np.random.random(n)\n",
    "    return v / np.sqrt(np.sum(v**2))\n",
    "\n",
    "def energy_check(ham, phi):\n",
    "    \"\"\"\n",
    "    Given a normalized state and hamiltonian compute energy\n",
    "    \"\"\"\n",
    "    out = np.matmul(ham, phi)\n",
    "    return np.dot(phi, out)\n",
    "    \n",
    "def lanczos_step(ham, K, phi_0):\n",
    "    \"\"\"\n",
    "    Given a simmetric hamiltonian, a simmetric operator, and an initial guess of the ground state produce \n",
    "    the next state in the lanczos routine \n",
    "    \"\"\"\n",
    "    t_phi_1 = np.matmul(K,phi_0)\n",
    "    s_phi_1 = t_phi_1 - np.dot(phi_0, t_phi_1) * phi_0\n",
    "    phi_1 = s_phi_1/np.sqrt(np.sum(s_phi_1**2)) \n",
    "    H = np.zeros((2,2))\n",
    "    out_0 = np.matmul(ham, phi_0)\n",
    "    out_1 = np.matmul(ham, phi_1)\n",
    "    H[0, 0] = np.dot(phi_0, out_0)\n",
    "    H[0, 1] = np.dot(phi_0, out_1)\n",
    "    H[1, 0] = np.dot(phi_1, out_0)\n",
    "    H[1, 1] = np.dot(phi_1, out_1)\n",
    "    eig, eig_vec = np.linalg.eig(H)\n",
    "    coeff = eig_vec[:, np.argmin(eig)]\n",
    "    final = coeff[0] * phi_0 + coeff[1] * phi_1 \n",
    "    if(final[0]<0):\n",
    "        final = - final\n",
    "    return final\n",
    "\n",
    "def lanczos(ham, precision = 10**(-6), seed = 12):\n",
    "    \"\"\"\n",
    "    Given a simmetric matrix ham return the ground state\n",
    "    \"\"\"\n",
    "    np.random.seed(seed)\n",
    "    phi_old = generic_state(ham.shape[0], seed)\n",
    "    phi_next = generic_state(ham.shape[0])\n",
    "    while(np.sum(np.abs(phi_old-phi_next)) > precision):\n",
    "        phi_old = phi_next\n",
    "        phi_next = lanczos_step(ham, ham, phi_next)\n",
    "    return phi_next\n",
    "\n",
    "ham = generic_simmetric(3, seed=9)\n",
    "real_eig, _ = np.linalg.eig(ham)\n",
    "found_vec = lanczos(ham)\n",
    "found_eig = energy_check(ham,found_vec)\n",
    "print('real ground_state = {:.10f}'.format(np.min(real_eig)))\n",
    "print('Found eig = {:.10f}'.format(found_eig))\n"
   ]
  },
  {
   "cell_type": "code",
   "execution_count": 20,
   "id": "da815b2f",
   "metadata": {},
   "outputs": [],
   "source": [
    "def lanczos_history(ham, precision = 10**(-6), seed = 12):\n",
    "    \"\"\"\n",
    "    Given a simmetric matrix ham return the ground state and energy history\n",
    "    \"\"\"\n",
    "    energy_history = []\n",
    "    np.random.seed(seed)\n",
    "    phi_old = generic_state(ham.shape[0], seed)\n",
    "    phi_next = generic_state(ham.shape[0])\n",
    "    while(np.sum(np.abs(phi_old-phi_next)) > precision):\n",
    "        phi_old = phi_next\n",
    "        phi_next = lanczos_step(ham, ham, phi_next)\n",
    "        energy_history.append(energy_check(ham, phi_next))\n",
    "    return energy_history"
   ]
  },
  {
   "cell_type": "code",
   "execution_count": 31,
   "id": "706c508f",
   "metadata": {},
   "outputs": [
    {
     "data": {
      "image/png": "[encoded data removed]",
      "text/plain": [
       "<Figure size 640x480 with 1 Axes>"
      ]
     },
     "metadata": {},
     "output_type": "display_data"
    }
   ],
   "source": [
    "ham = generic_simmetric(800)\n",
    "\n",
    "eig, _ = np.linalg.eig(ham)\n",
    "real = np.min(eig)\n",
    "\n",
    "history = lanczos_history(ham, precision = 10**(-3), seed = 12)\n",
    "steps = np.arange(len(history))\n",
    "real_y = real * np.ones(len(history))\n",
    "\n",
    "fig, ax = plt.subplots()\n",
    "ax.plot(steps, real_y, c='black', markersize=0.2, label='Real value')\n",
    "ax.plot(steps, history, c='blue', markersize=0.2, label='Lanczos')\n",
    "ax.set_xlabel('Steps')\n",
    "ax.set_ylabel('Energy [a.u.]')\n",
    "ax.grid()\n",
    "ax.legend()\n",
    "plt.show()"
   ]
  }
 ],
 "metadata": {
  "kernelspec": {
   "display_name": "Python 3",
   "language": "python",
   "name": "python3"
  },
  "language_info": {
   "codemirror_mode": {
    "name": "ipython",
    "version": 3
   },
   "file_extension": ".py",
   "mimetype": "text/x-python",
   "name": "python",
   "nbconvert_exporter": "python",
   "pygments_lexer": "ipython3",
   "version": "3.9.4"
  }
 },
 "nbformat": 4,
 "nbformat_minor": 5
}
